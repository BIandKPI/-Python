{
  "nbformat": 4,
  "nbformat_minor": 0,
  "metadata": {
    "colab": {
      "provenance": [],
      "collapsed_sections": [],
      "authorship_tag": "ABX9TyPlwoYtAyRoxckibf4BlBJ2",
      "include_colab_link": true
    },
    "kernelspec": {
      "name": "python3",
      "display_name": "Python 3"
    },
    "language_info": {
      "name": "python"
    }
  },
  "cells": [
    {
      "cell_type": "markdown",
      "metadata": {
        "id": "view-in-github",
        "colab_type": "text"
      },
      "source": [
        "<a href=\"https://colab.research.google.com/github/BIandKPI/-Python/blob/main/%D0%9A%D0%BE%D0%BF%D0%B8%D1%8F_%D0%B1%D0%BB%D0%BE%D0%BA%D0%BD%D0%BE%D1%82%D0%B0_%22FTX_Cryptocurrency_Exchange_API_ipynb%22.ipynb\" target=\"_parent\"><img src=\"https://colab.research.google.com/assets/colab-badge.svg\" alt=\"Open In Colab\"/></a>"
      ]
    },
    {
      "cell_type": "code",
      "source": [
        "#!pip install websocket-client"
      ],
      "metadata": {
        "id": "TqsWmdysThim"
      },
      "execution_count": null,
      "outputs": []
    },
    {
      "cell_type": "code",
      "execution_count": null,
      "metadata": {
        "id": "QA0Vmdt3YeTq"
      },
      "outputs": [],
      "source": [
        "import requests\n",
        "import websocket\n",
        "#import websockets-client\n",
        "import json\n",
        "import pandas as pd"
      ]
    },
    {
      "cell_type": "code",
      "source": [
        "#Establish a websocket connection with \n",
        "#Установите соединение через веб-сокет\n",
        "endpoint = 'wss://ftx.com/ws/'"
      ],
      "metadata": {
        "id": "5vhp95T5Zq89"
      },
      "execution_count": null,
      "outputs": []
    },
    {
      "cell_type": "code",
      "source": [
        "#Subscribe to a channel with \n",
        "#Подпишитесь на канал с\n",
        "our_msg = json.dumps({'op': 'subscribe', 'channel': 'ticker', 'market': 'ETH/USD'})"
      ],
      "metadata": {
        "id": "bQM3IwayZ1Xb"
      },
      "execution_count": null,
      "outputs": []
    },
    {
      "cell_type": "code",
      "source": [
        "def on_open(ws):\n",
        "  ws.send(our_msg)\n",
        "\n",
        "def on_message(ws, message):\n",
        "  out = json.loads(message)\n",
        "  df_ = pd.DataFrame(out['data'], index=[0])\n",
        "  df_.index = pd.to_datetime(df_.time, unit='s')\n",
        "  print(df_['last'])\n",
        "  print(message)\n",
        "\n",
        "ws = websocket.WebSocketApp(endpoint , on_message=on_message, on_open=on_open)\n",
        "  \n",
        "ws.run_forever()"
      ],
      "metadata": {
        "id": "exQYfdHLzjap"
      },
      "execution_count": null,
      "outputs": []
    },
    {
      "cell_type": "code",
      "source": [
        "df_"
      ],
      "metadata": {
        "id": "xPqyeg7gghf4"
      },
      "execution_count": null,
      "outputs": []
    },
    {
      "cell_type": "code",
      "source": [
        "'''Процесс запроса\n",
        "Соединения через веб-сокет проходят следующий жизненный цикл:\n",
        "\n",
        "Установите соединение через веб-сокет сwss://ftx.com/ws/\n",
        "(Необязательно) Авторизоваться с помощью{'op': 'login', 'args': {'key': <api_key>, 'sign': <signature>, 'time': <ts>}}\n",
        "Отправлять эхо-запросы через равные промежутки времени (каждые 15 секунд): {'op': 'ping'}. Вы увидите {'type': 'pong'}ответ.\n",
        "Подпишитесь на канал с{'op': 'subscribe', 'channel': 'trades', 'market': 'BTC-PERP'}\n",
        "Получить ответ о подписке{'type': 'subscribed', 'channel': 'trades', 'market': 'BTC-PERP'}\n",
        "Получить данные{'type': 'update', 'channel': 'trades', 'market': 'BTC-PERP', 'data': {'id': 15884651, 'price': 5231.0, 'size': 0.07, 'side': 'sell', 'liquidation': false, 'time': '2021-08-12T03:03:31.656050+00:00'}}\n",
        "Отписаться{'op': 'unsubscribe', 'channel': 'trades', 'market': 'BTC-PERP'}\n",
        "Получить ответ об отказе от подписки{'type': 'unsubscribed', 'channel': 'trades', 'market': 'BTC-PERP'}\n",
        "'''"
      ],
      "metadata": {
        "id": "vQMa97adaUSP"
      },
      "execution_count": null,
      "outputs": []
    },
    {
      "cell_type": "code",
      "source": [
        "'''\n",
        "https://docs.ftx.com/#get-trades\n",
        "\n",
        "Получить исторические цены\n",
        "Поддерживает разбиение на страницы\n",
        "\n",
        "С помощью этой конечной точки можно получить исторические цены фьючерсов с истекшим сроком действия, \n",
        "но обязательно укажите время начала и время окончания.\n",
        "'''"
      ],
      "metadata": {
        "id": "MpfNhBeNwfss"
      },
      "execution_count": null,
      "outputs": []
    },
    {
      "cell_type": "code",
      "source": [
        "base = 'https://ftx.com/api'"
      ],
      "metadata": {
        "id": "i9bEb_3Lthne"
      },
      "execution_count": null,
      "outputs": []
    },
    {
      "cell_type": "code",
      "source": [
        "#Request\n",
        "#GET /markets/ETH/USD/candles?resolution={resolution}\n",
        "#GET /markets/ETH/USD/candles?resolution=900\n",
        "#BTC/USDT\n"
      ],
      "metadata": {
        "id": "BpFT6IFOt5Nd"
      },
      "execution_count": null,
      "outputs": []
    },
    {
      "cell_type": "code",
      "source": [
        "'''\n",
        "resolution = В СЕКУНДАХ\n",
        "пятиминутка 60*5 = 300\n",
        "пятнадцатиминутка 60*15=900\n",
        "часовик 60*60 = 3600\n",
        "дневка 60*60*24 = 86400\n",
        "'''"
      ],
      "metadata": {
        "id": "zfeTboI6xpvV"
      },
      "execution_count": null,
      "outputs": []
    },
    {
      "cell_type": "code",
      "source": [
        "d1 = pd.to_datetime('2021-09-19').timestamp() # на выходе  1632009600.0\n",
        "d2 = pd.to_datetime('2021-10-02').timestamp() # на выходе  1633132800.0"
      ],
      "metadata": {
        "id": "VP4IA-t4_NRc"
      },
      "execution_count": null,
      "outputs": []
    },
    {
      "cell_type": "code",
      "source": [
        "r = requests.get('https://ftx.com/api'+'/markets/BTC/USDT/candles?resolution=900&start_time=1632009600.0')  \n",
        "df = pd.DataFrame(r.json()['result'])\n",
        "df"
      ],
      "metadata": {
        "id": "PnbeRjE_zqCn"
      },
      "execution_count": null,
      "outputs": []
    },
    {
      "cell_type": "code",
      "source": [
        "# default CSV\n",
        "csv_data = df.to_csv()\n",
        "print('\\nCSV String:\\n', csv_data)"
      ],
      "metadata": {
        "id": "cTHPnitn4Hlo"
      },
      "execution_count": null,
      "outputs": []
    },
    {
      "cell_type": "code",
      "source": [
        "'''8. Converting DataFrame to CSV File'''\n",
        "'''We are using with statement to open the file, \n",
        "it takes care of closing the file when the with statement block execution is finished. \n",
        "This code snippet will create a CSV file with the following data.\n",
        "Мы используем оператор with для открытия файла, \n",
        "он заботится о закрытии файла, когда выполнение блока оператора with завершено. \n",
        "Этот фрагмент кода создаст файл CSV со следующими данными.\n",
        "'''\n",
        "with open('csv_data15minBTC-USDT.txt', 'w') as csv_file:\n",
        "    df.to_csv(path_or_buf=csv_file)\n"
      ],
      "metadata": {
        "id": "Dtv5e2Da5PyQ"
      },
      "execution_count": null,
      "outputs": []
    }
  ]
}